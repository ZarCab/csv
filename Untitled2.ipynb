{
  "nbformat": 4,
  "nbformat_minor": 0,
  "metadata": {
    "colab": {
      "provenance": []
    },
    "kernelspec": {
      "name": "python3",
      "display_name": "Python 3"
    },
    "language_info": {
      "name": "python"
    }
  },
  "cells": [
    {
      "cell_type": "code",
      "execution_count": 1,
      "metadata": {
        "id": "DUmQ9S6kkM3E"
      },
      "outputs": [],
      "source": [
        "import pandas as pd\n",
        "import numpy as np\n",
        "\n",
        "from sklearn.model_selection import train_test_split\n",
        "from sklearn.preprocessing import StandardScaler\n",
        "url ='https://raw.githubusercontent.com/ZarCab/csv/main/3_stephen_curry_shot_chart_2023.csv'\n",
        "\n",
        "data = pd.read_csv(url)"
      ]
    },
    {
      "cell_type": "code",
      "source": [
        "print(pd.DataFrame(data).head())"
      ],
      "metadata": {
        "colab": {
          "base_uri": "https://localhost:8080/"
        },
        "id": "7Wbyr2UIlWFN",
        "outputId": "c30fb25d-ab41-4f10-f8cf-982bb6022bf9"
      },
      "execution_count": 2,
      "outputs": [
        {
          "output_type": "stream",
          "name": "stdout",
          "text": [
            "   top  left          date      qtr time_remaining  result  shot_type  \\\n",
            "0   63   300  Oct 18, 2022  1st Qtr           7:27   False          2   \n",
            "1  133   389  Oct 18, 2022  1st Qtr           7:22    True          2   \n",
            "2  326   247  Oct 18, 2022  1st Qtr           7:11   False          3   \n",
            "3  249    89  Oct 18, 2022  1st Qtr           5:16   False          3   \n",
            "4  282   158  Oct 18, 2022  1st Qtr           3:52   False          3   \n",
            "\n",
            "   distance_ft  lead  lebron_team_score  opponent_team_score opponent team  \\\n",
            "0            6  True                  9                    6      LAL  GSW   \n",
            "1           17  True                 11                    6      LAL  GSW   \n",
            "2           27  True                 11                    6      LAL  GSW   \n",
            "3           25  True                 19                   13      LAL  GSW   \n",
            "4           24  True                 22                   17      LAL  GSW   \n",
            "\n",
            "   season  color  \n",
            "0    2023    red  \n",
            "1    2023  green  \n",
            "2    2023    red  \n",
            "3    2023    red  \n",
            "4    2023    red  \n"
          ]
        }
      ]
    },
    {
      "cell_type": "code",
      "source": [
        "X = data[['top', 'left', 'shot_type','distance_ft']]\n",
        "pd.DataFrame(X).describe()\n",
        "print(pd.DataFrame(X))"
      ],
      "metadata": {
        "colab": {
          "base_uri": "https://localhost:8080/"
        },
        "id": "1PrCmyXjmJaM",
        "outputId": "e9e5c9ac-6e92-4560-ecc3-a17b6053e2ee"
      },
      "execution_count": 8,
      "outputs": [
        {
          "output_type": "stream",
          "name": "stdout",
          "text": [
            "      top  left  shot_type  distance_ft\n",
            "0      63   300          2            6\n",
            "1     133   389          2           17\n",
            "2     326   247          3           27\n",
            "3     249    89          3           25\n",
            "4     282   158          3           24\n",
            "...   ...   ...        ...          ...\n",
            "1429  185    79          2           21\n",
            "1430  193    19          3           26\n",
            "1431  332   214          3           28\n",
            "1432  310   240          3           26\n",
            "1433  329   283          3           28\n",
            "\n",
            "[1434 rows x 4 columns]\n"
          ]
        }
      ]
    },
    {
      "cell_type": "code",
      "source": [
        "y = data[['result']]\n",
        "print(pd.DataFrame(y))\n",
        "type(y)"
      ],
      "metadata": {
        "colab": {
          "base_uri": "https://localhost:8080/"
        },
        "id": "QHL4ZuLcmkzv",
        "outputId": "9d275ac5-974b-4de7-e19b-481671c45ac2"
      },
      "execution_count": 9,
      "outputs": [
        {
          "output_type": "stream",
          "name": "stdout",
          "text": [
            "      result\n",
            "0      False\n",
            "1       True\n",
            "2      False\n",
            "3      False\n",
            "4      False\n",
            "...      ...\n",
            "1429   False\n",
            "1430   False\n",
            "1431   False\n",
            "1432    True\n",
            "1433    True\n",
            "\n",
            "[1434 rows x 1 columns]\n"
          ]
        },
        {
          "output_type": "execute_result",
          "data": {
            "text/plain": [
              "pandas.core.frame.DataFrame"
            ]
          },
          "metadata": {},
          "execution_count": 9
        }
      ]
    },
    {
      "cell_type": "code",
      "source": [
        "X = data['distance_ft']\n",
        "print(X)\n"
      ],
      "metadata": {
        "colab": {
          "base_uri": "https://localhost:8080/"
        },
        "id": "zTzNmtU8w25I",
        "outputId": "519ef563-631d-4c2a-dd22-54aef03b2988"
      },
      "execution_count": 5,
      "outputs": [
        {
          "output_type": "stream",
          "name": "stdout",
          "text": [
            "0        6\n",
            "1       17\n",
            "2       27\n",
            "3       25\n",
            "4       24\n",
            "        ..\n",
            "1429    21\n",
            "1430    26\n",
            "1431    28\n",
            "1432    26\n",
            "1433    28\n",
            "Name: distance_ft, Length: 1434, dtype: int64\n"
          ]
        }
      ]
    },
    {
      "cell_type": "code",
      "source": [
        "# Extract the  column as a Pandas Series Y also made Series only can do 1 time\n",
        "X = data['distance_ft']\n",
        "\n",
        "\n",
        "y = data['result']\n",
        "print(X)\n",
        "\n",
        "print(y)\n"
      ],
      "metadata": {
        "colab": {
          "base_uri": "https://localhost:8080/"
        },
        "id": "J0TpHi6SmsDT",
        "outputId": "7156aba7-2b87-4f23-b844-0539bedfb272"
      },
      "execution_count": 6,
      "outputs": [
        {
          "output_type": "stream",
          "name": "stdout",
          "text": [
            "0        6\n",
            "1       17\n",
            "2       27\n",
            "3       25\n",
            "4       24\n",
            "        ..\n",
            "1429    21\n",
            "1430    26\n",
            "1431    28\n",
            "1432    26\n",
            "1433    28\n",
            "Name: distance_ft, Length: 1434, dtype: int64\n",
            "0       False\n",
            "1        True\n",
            "2       False\n",
            "3       False\n",
            "4       False\n",
            "        ...  \n",
            "1429    False\n",
            "1430    False\n",
            "1431    False\n",
            "1432     True\n",
            "1433     True\n",
            "Name: result, Length: 1434, dtype: bool\n"
          ]
        }
      ]
    },
    {
      "cell_type": "code",
      "source": [
        "\"\"\"\n",
        "#for 1 feature\n",
        "from sklearn.preprocessing import StandardScaler\n",
        "\n",
        "scaler = StandardScaler()\n",
        "X = scaler.fit_transform(X.values.reshape(-1, 1))\n",
        "\n",
        "\"\"\"\n",
        "\n",
        "#for multiple features\n",
        "\n",
        "from sklearn.preprocessing import StandardScaler\n",
        "\n",
        "\n",
        "# Initialize the scaler\n",
        "scaler = StandardScaler()\n",
        "\n",
        "# Apply the scaler to the entire feature matrix X\n",
        "X = scaler.fit_transform(X)\n"
      ],
      "metadata": {
        "id": "bS95uBdctad6"
      },
      "execution_count": 10,
      "outputs": []
    },
    {
      "cell_type": "code",
      "source": [
        "from sklearn.linear_model import LogisticRegression\n",
        "\n",
        "from sklearn.metrics import accuracy_score\n",
        "\n",
        "from sklearn.metrics import confusion_matrix\n",
        "\n",
        "from sklearn.metrics import classification_report\n",
        "\n",
        "\n",
        "\n",
        "\n",
        "\n",
        "\n",
        "# Split the data into training and testing sets\n",
        "X_train, X_test, y_train, y_test = train_test_split(X, y, test_size=0.3, random_state=42)\n",
        "\n",
        "# Train a logistic regression model\n",
        "logistic_model = LogisticRegression()\n",
        "logistic_model.fit(X_train, y_train)\n",
        "\n",
        "# Train a logistic regression model\n",
        "logistic_model = LogisticRegression()\n",
        "logistic_model.fit(X_train, y_train)\n",
        "\n",
        "# Predict the target values\n",
        "y_pred = logistic_model.predict(X_test)\n",
        "\n",
        "# Evaluate the model\n",
        "accuracy = accuracy_score(y_test, y_pred)\n",
        "conf_matrix = confusion_matrix(y_test, y_pred)\n",
        "classification_rep = classification_report(y_test, y_pred)\n",
        "\n",
        "print(\"Accuracy:\", accuracy)\n",
        "print(\"Confusion Matrix:\\n\", conf_matrix)\n",
        "print(\"Classification Report:\\n\", classification_rep)"
      ],
      "metadata": {
        "colab": {
          "base_uri": "https://localhost:8080/"
        },
        "id": "KlNy1jC6uzt0",
        "outputId": "20897bdd-84f6-43cd-9ce5-76d9ca06032a"
      },
      "execution_count": 11,
      "outputs": [
        {
          "output_type": "stream",
          "name": "stdout",
          "text": [
            "Accuracy: 0.580046403712297\n",
            "Confusion Matrix:\n",
            " [[150  71]\n",
            " [110 100]]\n",
            "Classification Report:\n",
            "               precision    recall  f1-score   support\n",
            "\n",
            "       False       0.58      0.68      0.62       221\n",
            "        True       0.58      0.48      0.52       210\n",
            "\n",
            "    accuracy                           0.58       431\n",
            "   macro avg       0.58      0.58      0.57       431\n",
            "weighted avg       0.58      0.58      0.58       431\n",
            "\n"
          ]
        },
        {
          "output_type": "stream",
          "name": "stderr",
          "text": [
            "/usr/local/lib/python3.10/dist-packages/sklearn/utils/validation.py:1143: DataConversionWarning: A column-vector y was passed when a 1d array was expected. Please change the shape of y to (n_samples, ), for example using ravel().\n",
            "  y = column_or_1d(y, warn=True)\n",
            "/usr/local/lib/python3.10/dist-packages/sklearn/utils/validation.py:1143: DataConversionWarning: A column-vector y was passed when a 1d array was expected. Please change the shape of y to (n_samples, ), for example using ravel().\n",
            "  y = column_or_1d(y, warn=True)\n"
          ]
        }
      ]
    },
    {
      "cell_type": "code",
      "source": [
        "import seaborn as sns\n",
        "import matplotlib.pyplot as plt\n",
        "\n",
        "# Assuming 'conf_matrix' is your confusion matrix\n",
        "sns.heatmap(conf_matrix, annot=True, fmt='d', cmap='Blues')\n",
        "plt.xlabel('Predicted')\n",
        "plt.ylabel('Actual')\n",
        "plt.title('Confusion Matrix')\n",
        "plt.show()\n"
      ],
      "metadata": {
        "colab": {
          "base_uri": "https://localhost:8080/",
          "height": 472
        },
        "id": "9T1_VVWu3BcX",
        "outputId": "0875823a-c547-4b88-e86b-de751ad00537"
      },
      "execution_count": 12,
      "outputs": [
        {
          "output_type": "display_data",
          "data": {
            "text/plain": [
              "<Figure size 640x480 with 2 Axes>"
            ],
            "image/png": "[encoded data removed]"
          },
          "metadata": {}
        }
      ]
    },
    {
      "cell_type": "code",
      "source": [
        "\n",
        "\n",
        "\n",
        "\n",
        "\n",
        "import seaborn as sns\n",
        "import matplotlib.pyplot as plt\n",
        "from sklearn.metrics import classification_report\n",
        "import pandas as pd\n",
        "\n",
        "# Sample classification report (replace this with your actual report)\n",
        "report_data = {\n",
        "    'precision': [0.58, 0.58],\n",
        "    'recall': [0.68, 0.48],\n",
        "    'f1-score': [0.62, 0.52],\n",
        "    'support': [221, 210]\n",
        "}\n",
        "\n",
        "class_labels = ['False', 'True']\n",
        "\n",
        "# Create a DataFrame from the classification report data\n",
        "report_df = pd.DataFrame(report_data, index=class_labels)\n",
        "\n",
        "# Visualize the classification report as a heatmap\n",
        "plt.figure(figsize=(8, 4))\n",
        "sns.heatmap(report_df, annot=True, fmt='.2f', cmap='Blues', linewidths=0.5)\n",
        "plt.title('Classification Report')\n",
        "plt.show()\n",
        "\n"
      ],
      "metadata": {
        "colab": {
          "base_uri": "https://localhost:8080/",
          "height": 391
        },
        "id": "7593MHih3E7o",
        "outputId": "22e4cfe2-b411-44be-92d3-44751bef30f2"
      },
      "execution_count": 14,
      "outputs": [
        {
          "output_type": "display_data",
          "data": {
            "text/plain": [
              "<Figure size 800x400 with 2 Axes>"
            ],
            "image/png": "[encoded data removed]"
          },
          "metadata": {}
        }
      ]
    },
    {
      "cell_type": "code",
      "source": [
        "\"\"\"\n",
        "Certainly, let's dive into more detail about precision, recall, F1 score, support, and accuracy, and how to interpret these metrics:\n",
        "\n",
        "\n",
        "Precision:\n",
        "\n",
        "Formula: Precision = (True Positives) / (True Positives + False Positives)\n",
        "\n",
        "Interpretation: Precision measures the accuracy of positive predictions made by the model. It tells you how many of the predicted positive instances were actually correct. In a classification context, it answers the question: \"Of all the instances my model predicted as positive, how many were truly positive?\"\n",
        "\n",
        "Interpretation Example: If your model predicts that 80% of the shots will be made (True), and the precision is 0.8, it means that 80% of the shots it labeled as \"made\" were indeed made shots.\n",
        "\n",
        "Recall (Sensitivity):\n",
        "\n",
        "Formula: Recall = (True Positives) / (True Positives + False Negatives)\n",
        "\n",
        "Interpretation: Recall measures the model's ability to identify all relevant instances of the positive class. It answers the question: \"Of all the actual positive instances, how many did my model correctly identify?\"\n",
        "\n",
        "Interpretation Example: If there were 100 actual made shots, and your model correctly identified 60 of them, the recall would be 0.6 (or 60%).\n",
        "\n",
        "F1 Score:\n",
        "\n",
        "Formula: F1 Score = 2 * (Precision * Recall) / (Precision + Recall)\n",
        "\n",
        "Interpretation: The F1 score is the harmonic mean of precision and recall. It provides a single metric that balances both false positives and false negatives. A higher F1 score indicates a better balance between precision and recall.\n",
        "\n",
        "Interpretation Example: If you want a balance between correctly identifying made shots and minimizing false alarms, the F1 score is a useful metric. It's particularly relevant when you don't want to favor either precision or recall too much.\n",
        "\n",
        "Support:\n",
        "\n",
        "Interpretation: Support represents the number of instances in each class. It provides context for the precision, recall, and F1 score values. A high support indicates that the class has a larger presence in your dataset.\n",
        "\n",
        "Interpretation Example: If the \"False\" class has a support of 221, it means there are 221 actual instances of missed shots in your dataset.\n",
        "\n",
        "Accuracy:\n",
        "\n",
        "Formula: Accuracy = (True Positives + True Negatives) / Total Predictions\n",
        "\n",
        "Interpretation: Accuracy is the proportion of correctly predicted outcomes (both positive and negative) out of all instances in your dataset. It provides a general measure of how well the model performs across all classes.\n",
        "\n",
        "Interpretation Example: An accuracy of 0.58 (or 58%) means that 58% of all shots in your dataset were correctly classified, regardless of their actual outcome.\n",
        "\n",
        "\"\"\""
      ],
      "metadata": {
        "colab": {
          "base_uri": "https://localhost:8080/",
          "height": 123
        },
        "id": "xPN4sb6mefRK",
        "outputId": "002bb74c-e29f-459c-a315-5d47a9c9190f"
      },
      "execution_count": 15,
      "outputs": [
        {
          "output_type": "execute_result",
          "data": {
            "text/plain": [
              "'\\nCertainly, let\\'s dive into more detail about precision, recall, F1 score, support, and accuracy, and how to interpret these metrics:\\n\\n\\nPrecision:\\n\\nFormula: Precision = (True Positives) / (True Positives + False Positives)\\n\\nInterpretation: Precision measures the accuracy of positive predictions made by the model. It tells you how many of the predicted positive instances were actually correct. In a classification context, it answers the question: \"Of all the instances my model predicted as positive, how many were truly positive?\"\\n\\nInterpretation Example: If your model predicts that 80% of the shots will be made (True), and the precision is 0.8, it means that 80% of the shots it labeled as \"made\" were indeed made shots.\\n\\nRecall (Sensitivity):\\n\\nFormula: Recall = (True Positives) / (True Positives + False Negatives)\\n\\nInterpretation: Recall measures the model\\'s ability to identify all relevant instances of the positive class. It answers the question: \"Of all the actual positive instances, how many did my model correctly identify?\"\\n\\nInterpretation Example: If there were 100 actual made shots, and your model correctly identified 60 of them, the recall would be 0.6 (or 60%).\\n\\nF1 Score:\\n\\nFormula: F1 Score = 2 * (Precision * Recall) / (Precision + Recall)\\n\\nInterpretation: The F1 score is the harmonic mean of precision and recall. It provides a single metric that balances both false positives and false negatives. A higher F1 score indicates a better balance between precision and recall.\\n\\nInterpretation Example: If you want a balance between correctly identifying made shots and minimizing false alarms, the F1 score is a useful metric. It\\'s particularly relevant when you don\\'t want to favor either precision or recall too much.\\n\\nSupport:\\n\\nInterpretation: Support represents the number of instances in each class. It provides context for the precision, recall, and F1 score values. A high support indicates that the class has a larger presence in your dataset.\\n\\nInterpretation Example: If the \"False\" class has a support of 221, it means there are 221 actual instances of missed shots in your dataset.\\n\\nAccuracy:\\n\\nFormula: Accuracy = (True Positives + True Negatives) / Total Predictions\\n\\nInterpretation: Accuracy is the proportion of correctly predicted outcomes (both positive and negative) out of all instances in your dataset. It provides a general measure of how well the model performs across all classes.\\n\\nInterpretation Example: An accuracy of 0.58 (or 58%) means that 58% of all shots in your dataset were correctly classified, regardless of their actual outcome.\\n\\n'"
            ],
            "application/vnd.google.colaboratory.intrinsic+json": {
              "type": "string"
            }
          },
          "metadata": {},
          "execution_count": 15
        }
      ]
    },
    {
      "cell_type": "code",
      "source": [
        "print(X.shape)\n",
        "print(y.shape)"
      ],
      "metadata": {
        "id": "U-Nj9vlAuzyk"
      },
      "execution_count": null,
      "outputs": []
    },
    {
      "cell_type": "code",
      "source": [
        "unique_results = data['distance_ft'].unique()\n",
        "print(unique_results)"
      ],
      "metadata": {
        "id": "AJN6_TmoySj1"
      },
      "execution_count": null,
      "outputs": []
    },
    {
      "cell_type": "code",
      "source": [
        "print(\"NaN values in y:\")\n",
        "print(y.isna().sum())"
      ],
      "metadata": {
        "id": "jx5VN98_yh7_"
      },
      "execution_count": null,
      "outputs": []
    }
  ]
}